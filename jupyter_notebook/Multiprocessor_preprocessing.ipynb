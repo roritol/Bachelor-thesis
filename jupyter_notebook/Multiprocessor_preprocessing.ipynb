{
 "cells": [
  {
   "cell_type": "code",
   "execution_count": 1,
   "metadata": {},
   "outputs": [],
   "source": [
    "import ast\n",
    "import re\n",
    "import numpy as np \n"
   ]
  },
  {
   "cell_type": "code",
   "execution_count": 6,
   "metadata": {},
   "outputs": [],
   "source": [
    " \n",
    "\n",
    "def text_preprocessing(\n",
    "    text:list,\n",
    "    punctuations = r'''!()-[]{};:'\"\\,<>./?@#$%^&*_“~''',\n",
    "    stop_words=['and', 'a', 'is', 'the', 'in', 'be', 'will']\n",
    "    )->list:\n",
    "    \"\"\"\n",
    "    A method to preproces text\n",
    "    \"\"\"\n",
    "    for x in text.lower(): \n",
    "        if x in punctuations: \n",
    "            text = text.replace(x, \"\")\n",
    "\n",
    "    # Removing words that have numbers in them\n",
    "    text = re.sub(r'\\w*\\d\\w*', '', text)\n",
    "\n",
    "    # Removing digits\n",
    "    text = re.sub(r'[0-9]+', '', text)\n",
    "\n",
    "    # Cleaning the whitespaces\n",
    "    text = re.sub(r'\\s+', ' ', text).strip()\n",
    "\n",
    "    # Setting every word to lower\n",
    "    text = text.lower()\n",
    "\n",
    "    # Converting all our text to a list \n",
    "    text = text.split(' ')\n",
    "\n",
    "    # Droping empty strings\n",
    "    text = [x for x in text if x!='']\n",
    "\n",
    "    # Droping stop words\n",
    "#     text = [x for x in text if x not in stop_words]\n",
    "\n",
    "    return text\n",
    "\n",
    "\n",
    "def process(line):\n",
    "    line = line.lower()\n",
    "    return line\n",
    "    "
   ]
  },
  {
   "cell_type": "code",
   "execution_count": 13,
   "metadata": {},
   "outputs": [
    {
     "name": "stdout",
     "output_type": "stream",
     "text": [
      "Data type before reconstruction :  <class 'str'>\n"
     ]
    }
   ],
   "source": [
    "# ran this on the workstation and copied it into the notebook\n",
    "\n",
    "import ast\n",
    "  \n",
    "# reading the data from the file\n",
    "with open('../Data_shared/wiki_subset.txt') as f:\n",
    "    data = f.read()\n",
    "      \n",
    "# reconstructing the data as a dictionary\n",
    "wikidata = ast.literal_eval(data)"
   ]
  },
  {
   "cell_type": "code",
   "execution_count": null,
   "metadata": {},
   "outputs": [],
   "source": [
    "# set wikidata to the subset of wikipedia dataset\n",
    "# wikidata = datasets.load_dataset('wikipedia', '20200501.en')\n",
    "# # make a subset\n",
    "# wikidata = wikidata['train']"
   ]
  },
  {
   "cell_type": "code",
   "execution_count": 20,
   "metadata": {},
   "outputs": [
    {
     "data": {
      "text/plain": [
       "['Yangliuqing () is a market town in Xiqing District, in the western suburbs of Tianjin, People\\'s Republic of China. Despite its relatively small size, it has been named since 2006 in the \"famous historical and cultural market towns in China\".\\n\\nIt is best known in China for creating nianhua or Yangliuqing nianhua. For more than 400 years, Yangliuqing has in effect specialised in the creation of these woodcuts for the New Year.  wood block prints using vivid colourschemes to portray traditional scenes of children\\'s games often interwoven with auspiciouse objects.\\n\\n, it had 27 residential communities () and 25 villages under its administration.\\n\\nShi Family Grand Courtyard\\n\\nShi Family Grand Courtyard (Tiānjīn Shí Jiā Dà Yuàn, 天津石家大院) is situated in Yangliuqing Town of Xiqing District, which is the former residence of wealthy merchant Shi Yuanshi - the 4th son of Shi Wancheng, one of the eight great masters in Tianjin. First built in 1875, it covers over 6,000 square meters, including large and small yards and over 200 folk houses, a theater and over 275 rooms that served as apartments and places of business and worship for this powerful family. Shifu Garden, which finished its expansion in October 2003, covers 1,200 square meters, incorporates the elegance of imperial garden and delicacy of south garden. Now the courtyard of Shi family covers about 10,000 square meters, which is called the first mansion in North China. Now it serves as the folk custom museum in Yangliuqing, which has a large collection of folk custom museum in Yanliuqing, which has a large collection of folk art pieces like Yanliuqing New Year pictures, brick sculpture.\\n\\nShi\\'s ancestor came from Dong\\'e County in Shandong Province, engaged in water transport of grain. As the wealth gradually accumulated, the Shi Family moved to Yangliuqing and bought large tracts of land and set up their residence. Shi Yuanshi came from the fourth generation of the family, who was a successful businessman and a good household manager, and the residence was thus enlarged for several times until it acquired the present scale. It is believed to be the first mansion in the west of Tianjin.\\n\\nThe residence is symmetric based on the axis formed by a passageway in the middle, on which there are four archways. On the east side of the courtyard, there are traditional single-story houses with rows of rooms around the four sides, which was once the living area for the Shi Family. The rooms on north side were the accountants\\' office. On the west are the major constructions including the family hall for worshipping Buddha, theater and the south reception room. On both sides of the residence are side yard rooms for maids and servants.\\n\\nToday, the Shi mansion, located in the township of Yangliuqing to the west of central Tianjin, stands as a surprisingly well-preserved monument to China\\'s pre-revolution mercantile spirit. It also serves as an on-location shoot for many of China\\'s popular historical dramas. Many of the rooms feature period furniture, paintings and calligraphy, and the extensive Shifu Garden.\\n\\nPart of the complex has been turned into the Yangliuqing Museum, which includes displays focused on symbolic aspects of the courtyards\\'  construction, local folk art and customs, and traditional period furnishings and crafts.\\n\\nSee also \\n\\nList of township-level divisions of Tianjin\\n\\nReferences \\n\\n http://arts.cultural-china.com/en/65Arts4795.html\\n\\nCategory:Towns in Tianjin',\n",
       " 'Orana Australia Ltd is a not-for-profit organisation that provides a diverse range of training and support services to over 650 people with disabilities and their families in South Australia.\\n\\nHistory\\nThe Mentally Retarded Children’s Society of SA Inc. was established in 1950 by a group of parents who wanted education, employment and accommodation opportunities for their children within the local community at a time when institutionalised care in Adelaide was their only alternative.\\n\\nThe society’s aims were to seek education or training facilities for people with intellectual disabilities, to establish sheltered workshops, and to establish residential hostels.\\n\\nA number of sheltered workshops were established, and in 1980, the name was changed to the Aboriginal word \"Orana\", which means \"Welcome\".\\n\\nToday, Orana provides assisted employment, assisted accommodation and respite services to people with intellectual disabilities.\\n\\nOrana\\'s current and previous clients include Mitsubishi Motors, Clipsal, RAA, Elders Limited, and Billycart Kids.\\n\\nOrana was one of the first disability service organisations to achieve Quality Accreditation.  The services and products they offer are:\\n\\n Packaging\\n Assembly\\n Sewing\\n Collating & Mailing\\n Furniture - Retail\\n Furniture – Manufacture for Commercial Market\\n Worm Farming\\n Work Crews\\n Pet & Grain – Retail\\n\\nIn 2018, after 65 years of bettering people’s lives, Orana identified a community need and expanded their operations into the aged care sector.\\n\\nAfter the unveiling of the Australian Government’s Commonwealth Home Support Programme (CHSP) and seeing it as a natural step of progression, Orana now provides quality tailored aged care at home.\\n\\nThe well-resourced organization delivers help across a range of areas, helping the elderly remain where they want to be - in the comfort of their own home during their later years.\\n\\nOrana continues with its mission to support people remain independent, valued and productive members of the community.\\n\\nReferences\\n\\nExternal links \\n \\n\\nCategory:Disability organisations based in Australia\\nCategory:Organisations based in South Australia',\n",
       " \"The St. Mary's Church is a church owned by the Church of Denmark in Sønderborg, Denmark and the church of the parish with the same name. Thanks to its location on a hill, the church building is very iconic for the city.\\n\\nHistory \\nIn the Middle Ages there was a leper colony on a hill just outside the city. It was named after Saint George and around 1300 the chapel of this leper colony stood in the place of the present St. Mary's Church. After the old parish church of the city, the St. Nicholas Church, was demolished around 1530, the Saint-George chapel became the new main church. Towards the end of the 16th century, John II, Duke of Schleswig-Holstein-Sonderburg commissioned the enlargement of the building in order to make it suitable for the function of the parish church of his city.\\n\\nThe current St. Mary's Church \\nIn 1595 a start was made on the partial demolition of the old church and the construction of the new church. Only parts of the old medieval church remained. From the medieval church, a medieval wooden wall cupboard dating from about 1400 remained. The solemn inauguration of the new parish church took place just before Christmas in 1600. In 1649 the George Church was renamed as the Mary Church. The name of Saint George stayed in the Danish names Sankt Jørgensgade and Jørgensbjerg.\\n\\nReferences \\n\\nCategory:Buildings and structures in Sønderborg Municipality\\nCategory:Churches in Denmark\\nCategory:Church of Denmark churches\",\n",
       " 'Kalitta may refer to:\\n\\nConnie Kalitta (born 1938), a retired American drag racer and CEO of the eponymous Kallita Air.\\nDoug Kalitta (born 1964), an American drag racer, nephew of Connie Kalitta and owner of Kalitta Charters.\\nScott Kalitta (1962-2008), an American drag racer and son of Connie Kalitta.\\nKalitta Air, a cargo airline flying Boeing 747 aircraft.\\nKalitta Charters, a cargo airline flying medium-sized aircraft.',\n",
       " \"Where Is Freedom? () is a 1954 Italian comedy-drama film directed by Roberto Rossellini. \\n \\nThe film had a troubled production because, after shooting some scenes, Rossellini lost interest in the film and abandoned the set. The work was completed after about a year, mainly from Mario Monicelli, with some scenes also shot by Lucio Fulci and Federico Fellini. Despite that, Rossellini is the sole credited director of the film.\\n\\nPlot \\nDifficulties and troubles of an ex-convict. Embittered and disillusioned by life, he will soon plan his return to prison.\\n\\nCast \\nTotò: Salvatore Lo Jacono \\nVera Molnar: Agnesina \\nNita Dover:  maratoneta di danza \\nFranca Faldini: Maria \\nLeopoldo Trieste: Abramo Piperno \\nAntonio Nicotra: maresciallo \\nSalvo Libassi:  maresciallo #2 \\nGiacomo Rondinella:  carcerato \\nUgo D'Alessio:  giudice\\nMario Castellani: pubblico ministero \\nVincenzo Talarico: avvocato difensore\\nPietro Carloni:  Pietro\\n\\nReferences\\n\\nExternal links\\n\\n   \\n\\nCategory:1954 films\\nCategory:Italian comedy-drama films\\nCategory:1950s comedy-drama films\\nCategory:Films directed by Roberto Rossellini\\nCategory:Commedia all'italiana\\nCategory:Films set in Rome\\nCategory:Italian films\\nCategory:Films produced by Dino De Laurentiis\\nCategory:Films produced by Carlo Ponti\",\n",
       " 'Latin liturgical rites, or Western liturgical rites, are Catholic liturgical rites employed by the Latin Church, the largest particular church sui iuris of the Catholic Church, that originated in Europe where the Latin language once dominated. Its language is now known as Ecclesiastical Latin. The most used rite is the Roman Rite.\\n\\nThe Latin rites were for many centuries no less numerous than the liturgical rites of the Eastern autonomous particular Churches. Their number is now much reduced. In the aftermath of the Council of Trent, in 1568 and 1570 Pope Pius V suppressed the Breviaries and Missals that could not be shown to have an antiquity of at least two centuries (see Tridentine Mass and Roman Missal). Many local rites that remained legitimate even after this decree were abandoned voluntarily, especially in the 19th century. In the second half of the 20th century, most of the religious orders that had a distinct liturgical rite chose to adopt in its place the Roman Rite as revised in accordance with the decrees of the Second Vatican Council (see Mass of Paul VI). A few such liturgical rites persist today for the celebration of Mass, since 1965–1970 in revised forms, but the distinct liturgical rites for celebrating the other sacraments have been almost completely abandoned.\\n\\nLiturgical rites currently in use within the Latin Church\\n\\nRoman Rite\\n\\nThe Roman Rite is by far the most widely used. Like other liturgical rites, it developed over time, with newer forms replacing the older. It underwent many changes in the first millennium and a half of its existence (see Pre-Tridentine Mass). The forms that Pope Pius V, as requested by the Council of Trent, established in the 1560s and 1570s underwent repeated minor variations in the centuries immediately following. Each new typical edition (the edition to which other printings are to conform) of the Roman Missal (see Tridentine Mass) and of the other liturgical books superseded the previous one.\\n\\nThe 20th century saw more profound changes. Pope Pius X radically rearranged the Psalter of the Breviary and altered the rubrics of the Mass. Later popes continued to make such changes, beginning with Pope Pius XII, who significantly revised the Holy Week ceremonies and certain other aspects of the Roman Missal in 1955.\\n\\nOrdinary Form\\n\\nThe Second Vatican Council (1962–1965) was followed by a general revision of the rites of all the Roman Rite sacraments, including the Eucharist. As before, each new typical edition of an official liturgical book supersedes the previous one. Thus, the 1970 Roman Missal, which superseded the 1962 edition, was superseded by the edition of 1975. The 2002 edition in turn supersedes the 1975 edition both in Latin and, as official translations into each language appear, also in the vernacular languages. Under the terms of Summorum Pontificum by Pope Benedict XVI, the Mass of Paul VI is known as the Ordinary Form of the Roman Rite.\\n\\nExtraordinary Form\\n\\nThe Tridentine Mass, as in the 1962 Roman Missal, is still authorized for use as an extraordinary form of the Roman Rite under the conditions indicated in the document Summorum Pontificum.\\n\\nOrdinariate Use\\n\\nThe Ordinariate Use is a form or variation of the Roman Rite, rather than a unique rite itself. During the Liturgy of the Eucharist, especially the Eucharistic Prayer, it is closest to other forms of the Roman Rite, while it differs more during the Liturgy of the Word and the Penitential Rite. The language used, which differs from that of the ICEL translation of the Roman Rite of Mass, is based upon the Book of Common Prayer, originally written in the 16th century. Prior to the establishment of the personal ordinariates, parishes in the United States were called \"Anglican Use\" and used the Book of Divine Worship, an adaptation of the Book of Common Prayer. The Book of Divine Worship has been replaced with the similar Divine Worship: The Missal for use in the ordinariates worldwide. Anglican liturgical rituals, whether those used in the ordinariates of the Catholic Church or in the various prayer books and missals of the Anglican Communion and other denominations trace their origin back to the Sarum Use, which was a variation of the Roman Rite used in England before introduction during the reign of Edward VI of the 1549 Book of Common Prayer, following the break from the Roman church under the previous monarch Henry VIII.\\n\\nIn the United States, under a Pastoral Provision in 1980, personal parishes were established that introduced adapted Anglican traditions to the Catholic Church from members\\' former Episcopal parishes. That provision also permitted, as an exception and on a case by case basis, the ordination of married former Episcopal ministers as Catholic priests. As personal parishes, these parishes were formerly part of the local Roman Catholic diocese, but accepted as members any former Anglican who wished to make use of the provision.\\n\\nOn 9 November 2009, Pope Benedict XVI established a worldwide provision for Anglicans who joined the church. This process set up personal ordinariates for former Anglicans and other persons entering the full communion of the Catholic Church. These ordinariates would be similar to dioceses, but encompassing entire regions or nations. Parishes belonging to an ordinariate would not be part of the local diocese. These ordinariates are charged with maintaining the Anglican liturgical, spiritual and pastoral traditions, and they have full faculties to celebrate the Eucharist and the other sacraments, the Liturgy of the Hours and other liturgical functions in accordance with the liturgical books proper to Anglican tradition, in revisions approved by the Holy See. This faculty does not exclude liturgical celebrations according to the Roman Rite.\\n\\nThe Personal Ordinariate of Our Lady of Walsingham was set up for England and Wales on 15 January 2011, and the Personal Ordinariate of the Chair of Saint Peter for the United States and Canada on 1 January 2012, and the Personal Ordinariate of Our Lady of the Southern Cross for Australia on 15 June 2012. As of 2017 it was decreed that all parishes in the United States established under the Pastoral Provision be transferred to the Ordinariate. Bishop Steven Lopes of the Personal Ordinariate of the Chair of Saint Peter has requested that terms such as \"Anglican Use\" and \"Anglican Ordinariate\" be avoided, saying \"Our clergy and faithful do not like being called Anglican, both because this is insensitive to actual Anglicans, and because it is a subtle way of suggesting that their entrance into full communion is less that total. We are Catholic in every sense.\"\\n\\nAlgonquian and Iroquoian Uses\\n\\nAlso called \"Indian Masses\", a number of variations on the Roman Rite developed in the Indian missions of Canada and the United States. These originated in the 17th century, and some remained in use until the Second Vatican Council. The priest\\'s parts remained in Latin, while the ordinaries sung by the choir were translated into the vernacular (e.g., Mohawk, Algonquin, Micmac, and Huron). They also generally featured a reduced cycle of native-language propers and hymns. At present they are rarely used.\\n\\nZaire Use\\n\\nThe Zaire Use is an inculturated variation of the Ordinary Form of the Roman Rite of the Roman Catholic Church. It has been used to a very limited extent in some African countries since the late 1970s.\\n\\nWestern Rites of \"Gallican\" type\\n\\nAmbrosian Rite\\n\\nThe Ambrosian Rite is celebrated in most of the Archdiocese of Milan, Italy, and in parts of some neighbouring dioceses in Italy and Switzerland. The language used is now usually Italian, rather than Latin. With some variant texts and minor difference in the order of readings, it is similar in form to the Roman Rite. Its classification as Gallican-related is disputed.\\n\\nRite of Braga\\n\\nThe Rite of Braga is used, but since 18 November 1971 only on an optional basis, in the Archdiocese of Braga in northern Portugal.\\n\\nMozarabic Rite\\n\\nThe Mozarabic Rite, which was prevalent throughout Spain in Visigothic times, is now celebrated only in limited locations, principally the cathedral of Toledo.\\n\\nCarthusian Rite\\nThe Carthusian rite is in use in a version revised in 1981. Apart from the new elements in this revision, it is substantially the rite of Grenoble in the 12th century, with some admixture from other sources. Among other differences from the Roman Order of Mass, the deacon prepares the gifts while the Epistle is being sung, the celebrating priest washes his hands twice at the offertory and says the eucharistic prayer with arms extended in the form of a cross except when using his hands for some specific action, and there is no blessing at the end of Mass.\\n\\nThis is now the only extant Mass rite of a Catholic religious order; but by virtue of the Ecclesia Dei indult some individuals or small groups are authorized to use some now defunct rites.\\n\\nWestern Rite of sui generis type\\n\\nBenedictine Rite\\n\\nThe Order of Saint Benedict has never had a rite of the Mass peculiar to it, but it keeps its very ancient Benedictine Rite of the Liturgy of the Hours.\\n\\nDefunct Catholic Western liturgical rites\\n\\nAfrican Rite\\n\\nIn Africa Proconsulare, located in present-day Tunisia (of which Carthage was the capital), the African Rite was used before the 7th-century Arab conquest. It was very close to the Roman Rite; so much so that Western liturgical traditions have been classified as belonging to two streams, the North African-Rome tradition, and the Gallican (in the broad sense) tradition encompassing the rest of the Western Roman Empire, including northern Italy.\\n\\nCeltic Rite \\n\\nThe ancient Celtic Rite was a composite of non-Roman ritual structures (possibly Antiochian) and texts not exempt from Roman influence, that was similar to the Mozarabic Rite in many respects and would have been used at least in parts of Ireland, Scotland, the northern part of England and perhaps even Wales, Cornwall and Somerset, before being authoritatively replaced by the Roman Rite in the early Middle Ages. \"Celtic\" is possibly a misnomer and it may owe its origins to Augustine\\'s re-evangelisation of the British Isles in the 6th century. Little is known of it, though several texts and liturgies survive. \\n\\nSome Christians–typically groups not in communion with the Roman Catholic Church, especially some Western Orthodox Christian communities in communion with Eastern Orthodox Churches, e.g. Celtic Orthodoxy–have attempted to breathe life into a reconstruction of the Celtic Rite the historical accuracy of which is debated. Historical evidence of this rite is found in the remnants of the Stowe (Lorrha) Missal.\\n\\nGallican Rite\\n\\nThe Gallican Rite is a retrospective term applied to the sum of the local variants, on similar lines to that designated elsewhere as the Celtic Rite (above) and the Mozarabic Rite, which faded from use in France by the end of the first millennium. It should not be confused with the so-called Neo-Gallican liturgical books published in various French dioceses after the Council of Trent, which had little or nothing to do with it.\\n\\nRegional Latin rites or uses\\nSeveral local rites (more properly uses or variants of the Roman Rite (most with Gallican elements some with Byzantine liturgical and tradition elements) of limited scope existed, but are now defunct.\\nThe Sarum Rite (more properly Sarum Use), a defunct variant on the Roman rite originating in the Diocese of Salisbury, which had come to be widely practised in England and Scotland around the 1530s, while the Protestant Reformation swept across continental Europe; practised alongside limited other variants such as the Use of York, Lincoln Use, Bangor Use, and Hereford Use. It has a legacy in its influence on later Anglican liturgy.\\nThe Cologne Use, used in the diocese of Cologne () prior to 1570.\\nThe Metz Use, created by Arnulf of Metz and Amalarius of Metz in the ninth century–used in Alsace-Lorraine, the Netherlands, and Flemish and Wallonian lands until the beginning of the twentieth century.\\nThe Lyonese Rite of the Diocese of Lyon, France, which some consider to have been (rather than Milan) the centre of diffusion of the Gallican liturgy; it is maintained in a few parishes in Lyon.\\nThe Nidaros Use, long defunct, based mainly on imported English liturgical books, used in pre-Reformation Norway.\\nThe Uppsala Use, suppressed during the Reformation, formerly the dominant variant of the Roman Rite used in northern Sweden.\\nThe  Aquileian Rite, a defunct rite originating in the former patriarchate of Aquileia in northern Italy.\\nThe Benevento Rite, a defunct Latin rite originated in this city in Italy.\\nThe Durham Rite (defunct: Durham, England)\\nThe Esztergom Use (defunct: Archdiocese of Esztergom, used between the 12th and 17th centuries primarily in the Archdiocese of Esztergom, and in its suffragan dioceses. Similar rites were also in Slovakia and in southern, central, and western Poland. These usages of Roman liturgy was the closest to Roman (today Vatican) rites with some small Byzantine-Slavic elements.\\n\\nRites of religious orders\\n\\nSome religious orders celebrated Mass according to rites of their own, dating from more than 200 years before the papal bull Quo primum. These rites were based on local usages and combined elements of the Roman and Gallican Rites. Following the Second Vatican Council, they have mostly been abandoned, except for the Carthusian Rite (see above). Religious orders of more recent origin have never had special rites.\\n\\nThe following previously existing rites of Mass, distinct from the Roman Rite, continue to be used on a limited basis by the permission of ecclesiastical superiors:\\nCarmelite Rite\\nCistercian Rite\\nDominican Rite\\nPremonstratensian or Norbertine Rite\\n\\nThe Catholic Encyclopedia applied the word \"rite\" also to the practices followed (to some extent even now, a century later) by certain Catholic religious orders, while at the same time stating that they in fact followed the Roman Rite:\\nFranciscan Rite\\nFriars Minor Capuchin Rite\\nServite Rite\\n\\nSee also\\nAlexandrian Rite\\nAntiochene Rite\\nArmenian Rite \\nByzantine Rite\\nCatholic particular churches and liturgical rites\\nEast Syriac Rite\\nWest Syriac Rite\\nGeneral Roman Calendar\\n\\nReferences\\n\\nExternal links\\nDom Fernand Cabrol\\'s The Mass of the Western Rites\\nNon-Roman Latin or Western Rites\\nAn African Interpretation of Liturgical Inculturation: The Rite Zairois\\n\\n \\nCategory:Western Christianity',\n",
       " 'Fernaldia pandurata (common name: loroco ) is a vine with edible flowers, widespread in Mexico and Central America.\\n\\nFernaldia pandurata is an important source of food in El Salvador and Guatemala. The plant\\'s buds and flowers are used for cooking in a variety of ways, including in pupusas.\\n\\nThe name \"loroco\" is used throughout Mesoamerica to refer to Fernaldia pandurata.\\n\\nFernaldia pandurata is an herbaceous vine with oblong-elliptical to broadly ovate leaves . long, 1.5–8\\xa0cm broad, inflorescences are generally somewhat shorter than the leaves, with 8–18 flowers, the pedicels 4–6\\xa0mm. long; bracts ovate,  long; calyx lobes ovate, acute or obtuse, 2–3\\xa0mm. long; corolla white within, greenish outside.\\n\\nReferences\\n\\n \\n León, J., H. Goldbach & J. Engels, 1979: Die genetischen Ressourcen der Kulturpflanzen Zentralamerikas., Int. Genbank CATIE/GTZ in Turrialba, Costa Rica, San Juan de Tibás, Costa Rica, 32 pp.\\n Morton, J. F., E. Alvarez & C. Quiñonez, 1990: Loroco, Fernaldia pandurata\\'\\' (Apocynaceae): a popular edible flower of Central America. Economic Botany 44, 301–310.\\n\\nExternal links\\n\\n Loroco in World Crops (English)\\n\\nCategory:Echiteae\\nCategory:Edible plants\\nCategory:Flora of Central America\\nCategory:Flora of Mexico\\nCategory:Salvadoran cuisine\\nCategory:Guatemalan cuisine\\nCategory:Plants described in 1844',\n",
       " 'Chester Earl Merrow (November 15, 1906 – February 10, 1974) was a U.S. Representative from New Hampshire.\\n\\nBorn in Center Ossipee, New Hampshire, Merrow attended the public schools and Brewster Free Academy in Wolfeboro from 1921 to 1925. He was graduated from Colby College, Waterville, Maine, in 1929 and from Teachers College (summers) (Columbia University), New York City, in 1937.\\n\\nMerrow was an instructor of science at Kents Hill School in Maine in 1929 and 1930 and at Montpelier Seminary from 1930 to 1937. He served as assistant headmaster of Montpelier Seminary from 1935 to 1938.  He was an instructor of political science and history at Vermont Junior College in Montpelier in 1937 and 1938.\\n\\nMerrow was a member of the New Hampshire House of Representatives in 1939 and 1940.  He became a radio news commentator and lecturer, and served as delegate to an international conference on education and cultural relations of the United Nations, held in London in 1945.  He was a congressional adviser to the first conference of the United Nations Educational, Scientific, and Cultural Organization (UNESCO) held in Paris in 1946. He served as a member of the United States delegation to UNESCO 1946-1949.\\n\\nMerrow was elected as a Republican to the Seventy-eighth and to the nine succeeding Congresses (January 3, 1943 – January 3, 1963). Merrow voted in favor of the Civil Rights Acts of 1957 and 1960. He was not a candidate for reelection in 1962 to the Eighty-eighth Congress, but was unsuccessful for nomination to the United States Senate.  Subsequently, he was Special Adviser on Community Relations, Department of State, from 1963 to 1968. He was an unsuccessful candidate for election in 1970 to the Ninety-second Congress and in 1972 to the Ninety-third Congress. He resided in Center Ossipee until his death there, February 10, 1974.\\nHe was interred in Chickville Cemetery.\\n\\nReferences\\n\\nCategory:1906 births\\nCategory:1974 deaths\\nCategory:Members of the United States House of Representatives from New Hampshire\\nCategory:Colby College alumni\\nCategory:Teachers College, Columbia University alumni\\nCategory:New Hampshire Republicans\\nCategory:Republican Party members of the United States House of Representatives\\nCategory:Members of the New Hampshire House of Representatives\\nCategory:20th-century American politicians\\nCategory:People from Ossipee, New Hampshire',\n",
       " 'HIS (\"Hightech Information System Limited\"; established 1987), is a Hong Kong-based graphics card manufacturer that produces AMD (formerly known as ATI) Radeon graphics cards. Its headquarters are in Hong Kong, with additional sales offices and distribution networks in Europe, the Middle East, North America and Asia Pacific Regions. The current distributor in Hong Kong is JunMax Technology.\\n\\nProducts \\nHIS manufactures and sells AMD Radeon series video cards. They are known for their IceQ cooling technology as well as producing the latest and fastest PCI cards like AMD Radeon RX 590, RX 5700 and RX 5700 XT.\\n\\nIn 2019, HIS launched new versions of the RX 5700 XT in pink and blue.\\n\\nReferences\\n\\nExternal links\\n HIS Ltd.\\n\\nCategory:Computer companies of Hong Kong\\nCategory:Graphics hardware companies\\nCategory:Computer companies established in 1987\\nCategory:Electronics companies established in 1987\\nCategory:Hong Kong brands',\n",
       " '__NOTOC__\\nAD 47 (XLVII) was a common year starting on Sunday (link will display the full calendar) of the Julian calendar. \"At the time, it was known as the Year of the Consulship of Claudius and Vitellius (or, less frequently, year 800 Ab urbe condita). The denomination AD 47 for this year has been used since the early medieval period, when the Anno Domini calendar era became the prevalent method in Europe for naming years.\\n\\nEvents\\n\\nBy place\\n\\nRoman Empire \\n Claudius revives the censorship and ludi saeculares, and organises the order of the Haruspices, with 60 members.\\n Gnaeus Domitius Corbulo is made commander of the Roman army in Germania Inferior. He conquers the Chauci and fights against the Cherusci and Frisians.\\n Cauci pirates led by the Roman deserter Gannascus ravage the Gallic coast; Corbulo uses the Rhine fleet against them. The Frisian revolt is suppressed.\\n Publius Ostorius Scapula replaces Aulus Plautius as governor of Britain. The south-east of the island is now a Roman province, while certain states on the south coast are ruled as a nominally independent client kingdom by Tiberius Claudius Cogidubnus, whose seat is probably at Fishbourne near Chichester. Ostorius immediately faces incursions from unconquered areas, which he puts down.\\n Corbulo orders the construction of the canal Fossa Corbulonis, between the Rhine and Meuse in the Netherlands, which connects the city Forum Hadriani (Voorburg).\\n Romans build the Traiectum fortification near the mouth of the Rhine, which will later grow to be the city of Utrecht.\\n Claudius founds the city Forum Claudii Vallensium (modern Martigny) in the Alpes Poeninae (Switzerland).\\n Musselburgh is founded in Roman Britain (Scotland).\\n\\nBy topic\\n\\nReligion \\n Ananias becomes high priest in Judaea.\\n Paul starts his evangelistic work.\\n</onlyinclude>\\n\\nBirths \\n Taejodae, Korean ruler of Goguryeo (d. 165)\\n\\nDeaths \\n Decimus Valerius Asiaticus, Roman politician and consul\\n Gaius Sallustius Crispus Passienus, Roman consul\\n Gnaeus Pompeius Magnus, Roman nobleman \\n Quintus Sanquinius Maximus, Roman politician\\n Vardanes I, king of the Parthian Empire\\n\\nReferences \\n\\n0047\\n\\nals:40er#47']"
      ]
     },
     "execution_count": 20,
     "metadata": {},
     "output_type": "execute_result"
    }
   ],
   "source": [
    "wikidata[\"text\"][:10]\n",
    "    \n"
   ]
  },
  {
   "cell_type": "code",
   "execution_count": null,
   "metadata": {},
   "outputs": [],
   "source": []
  },
  {
   "cell_type": "code",
   "execution_count": null,
   "metadata": {},
   "outputs": [],
   "source": []
  },
  {
   "cell_type": "code",
   "execution_count": null,
   "metadata": {},
   "outputs": [],
   "source": []
  },
  {
   "cell_type": "code",
   "execution_count": 1,
   "metadata": {},
   "outputs": [],
   "source": [
    "def import_baroni(neg_file, pos_file):\n",
    "    filenames = [\"neg_file\", \"pos_file\"]\n",
    "\n",
    "    for i, file in enumerate([neg_file, pos_file]):\n",
    "        globals()['results_{}'.format(filenames[i])] = []\n",
    "        \n",
    "        with open(file) as f:\n",
    "            line = f.readline()\n",
    "            while line:\n",
    "                globals()['results_{}'.format(filenames[i])].append(line.replace(\"-n\", \"\").replace(\"\\n\", \"\").strip(\"\").split(\"\\t\"))\n",
    "                line = f.readline()\n",
    "        f.close()\n",
    "\n",
    "    baroni = sum(results_neg_file, []) + sum(results_pos_file, [])\n",
    "    baroni_set = set(baroni)\n",
    "\n",
    "    return results_neg_file, results_pos_file, baroni, baroni_set"
   ]
  },
  {
   "cell_type": "markdown",
   "metadata": {},
   "source": [
    "### MAIN"
   ]
  },
  {
   "cell_type": "code",
   "execution_count": null,
   "metadata": {},
   "outputs": [],
   "source": [
    "neg_file = \"../Data_Shared/eacl2012-data/negative-examples.txtinput\"\n",
    "pos_file = \"../Data_Shared/eacl2012-data/positive-examples.txtinput\"\n",
    "results_neg_file, results_pos_file, baroni, baroni_set = import_baroni(neg_file, pos_file)\n",
    "\n",
    "device = 'cuda:0' if torch.cuda.is_available() else 'cpu'\n",
    "\n",
    "batch_size = 128\n",
    "unk_thresh = 1\n",
    "\n",
    "seqs = baroni"
   ]
  }
 ],
 "metadata": {
  "kernelspec": {
   "display_name": "Python 3",
   "language": "python",
   "name": "python3"
  },
  "language_info": {
   "codemirror_mode": {
    "name": "ipython",
    "version": 3
   },
   "file_extension": ".py",
   "mimetype": "text/x-python",
   "name": "python",
   "nbconvert_exporter": "python",
   "pygments_lexer": "ipython3",
   "version": "3.7.4"
  }
 },
 "nbformat": 4,
 "nbformat_minor": 2
}
